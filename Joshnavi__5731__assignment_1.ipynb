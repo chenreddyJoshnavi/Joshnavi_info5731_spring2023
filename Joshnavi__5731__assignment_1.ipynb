{
  "cells": [
    {
      "cell_type": "markdown",
      "metadata": {
        "id": "view-in-github"
      },
      "source": [
        "<a href=\"https://colab.research.google.com/github/unt-iialab/INFO5731_Spring2020/blob/master/Assignments/INFO5731_Assignment_One.ipynb\" target=\"_parent\"><img src=\"https://colab.research.google.com/assets/colab-badge.svg\" alt=\"Open In Colab\"/></a>"
      ]
    },
    {
      "cell_type": "markdown",
      "metadata": {
        "id": "Ryk8D1Q4Wsrp"
      },
      "source": [
        "# **INFO5731 Assignment One**"
      ]
    },
    {
      "cell_type": "markdown",
      "metadata": {
        "id": "90_NR8c5XGWc"
      },
      "source": [
        "# Question 1\n",
        "\n",
        "(20 points). Write a Python program to generate 12 random numbers between 1 and 100. Sort the list of numbers in ascending order and print it out. Sort the list of numbers in descending order and print it out. Calculate the average for the group and print it out."
      ]
    },
    {
      "cell_type": "code",
      "execution_count": null,
      "metadata": {
        "colab": {
          "base_uri": "https://localhost:8080/"
        },
        "id": "5QX6bJjGWXY9",
        "outputId": "3886c4d8-0c08-4313-8537-06fc0230de4d"
      },
      "outputs": [
        {
          "output_type": "stream",
          "name": "stdout",
          "text": [
            "random numbers: [18, 41, 21, 32, 47, 20, 71, 29, 6, 2, 5, 77]\n",
            "Ascending order : [2, 5, 6, 18, 20, 21, 29, 32, 41, 47, 71, 77]\n",
            "Descending order: [77, 71, 47, 41, 32, 29, 21, 20, 18, 6, 5, 2]\n",
            "Average for the group: 30.75\n"
          ]
        }
      ],
      "source": [
        "import random\n",
        "import math\n",
        "my_list=[]\n",
        "n=12\n",
        "for i in range(12):\n",
        " x=random.randint(1,100)\n",
        " my_list.append(x)\n",
        "x=print(\"random numbers:\",my_list)\n",
        "my_list.sort()\n",
        "y=print(\"Ascending order :\",my_list)\n",
        "my_list.sort(reverse=True)\n",
        "z=print(\"Descending order:\",my_list)\n",
        "average=sum(my_list)/len(my_list)\n",
        "print(\"Average for the group:\",average)\n",
        "\n",
        "\n",
        "\n"
      ]
    },
    {
      "cell_type": "markdown",
      "metadata": {
        "id": "1F_PZdH9Sh49"
      },
      "source": [
        "# Question 2\n",
        "(25 points). Write a program that will do the following string formatting tasks:\n",
        "\n",
        "(1) Ask the user to enter two sentences.\n",
        "\n",
        "(2) Make each sentence into a list. Each element in the list should correspond to a word in the sentence. For example, if the sentence is \"Alas! Am I alive? This is my first python program\", the program should print out ['Alas, '!', 'Am', 'I', 'alive, '?', 'This', 'is', 'my', 'first', 'python', 'program'].\n",
        "\n",
        "(3) Compare the two sentences. Print out a list of words that occur in both sentences.\n",
        "\n",
        "(4) Remove any punctuation from the sentence and print it back out. It should remove at least the following characters, but it can remove more: period(“.”), comma (“,”), semicolon (“;”), and colon (“:”)\n",
        "\n",
        "(5) Count the number of vowels in the sentences. Print out each vowel and the number of times it appears in the sentences, such as: a:2, e:1, i:0, etc"
      ]
    },
    {
      "cell_type": "code",
      "execution_count": null,
      "metadata": {
        "id": "Y0oOSlsOS0cq",
        "colab": {
          "base_uri": "https://localhost:8080/"
        },
        "outputId": "4225ea4f-2df9-44dd-db0a-1e657c264fdb"
      },
      "outputs": [
        {
          "output_type": "stream",
          "name": "stdout",
          "text": [
            " For all the years, calculate the percentage of housing units which are vacant an occupied.\n",
            "To answer this question, you will need to download the file.\n",
            "['For', 'all', 'the', 'years,', 'calculate', 'the', 'percentage', 'of', 'housing', 'units', 'which', 'are', 'vacant', 'an', 'occupied.']\n",
            "['To', 'answer', 'this', 'question,', 'you', 'will', 'need', 'to', 'download', 'the', 'file.']\n",
            "{'the'}\n",
            " For all the years calculate the percentage of housing units which are vacant an occupied\n",
            "To answer this question you will need to download the file\n"
          ]
        },
        {
          "output_type": "execute_result",
          "data": {
            "text/plain": [
              "{'o': 4, 'a': 9, 'e': 9, 'u': 4, 'i': 4}"
            ]
          },
          "metadata": {},
          "execution_count": 5
        }
      ],
      "source": [
        "sentence1 = input()\n",
        "sentence2 = input()\n",
        "list1=sentence1.split()\n",
        "print(list1)\n",
        "list2=sentence2.split()\n",
        "print(list2)\n",
        "common_list=set(list1).intersection(list2)\n",
        "print(common_list)\n",
        "l=[\".\",\",\",\":\",\";\",\"!\",\"?\"]\n",
        "for i in sentence1:\n",
        "  if i in l:\n",
        "    sentence1=sentence1.replace(i,\"\")\n",
        "print(sentence1)\n",
        "for j in sentence2:\n",
        "  if j in l:\n",
        "    sentence2=sentence2.replace(j,\"\")\n",
        "print(sentence2)\n",
        "a=[\"a\",\"e\",\"i\",\"o\",\"u\"]\n",
        "d1={}\n",
        "for i in sentence1:\n",
        "  if i in a:\n",
        "    d1[i]=sentence1.count(i)\n",
        "d1\n",
        "\n",
        "\n",
        "\n",
        "\n",
        "\n",
        "\n",
        "\n",
        "\n",
        "\n",
        "\n"
      ]
    },
    {
      "cell_type": "code",
      "source": [
        "d2={}\n",
        "for i in sentence2:\n",
        "  if i in a:\n",
        "    d2[i]=sentence2.count(i)\n",
        "d2"
      ],
      "metadata": {
        "colab": {
          "base_uri": "https://localhost:8080/"
        },
        "id": "HZVWIFgbJKND",
        "outputId": "f70c7105-a62f-4c88-e2bf-522135a6d2f4"
      },
      "execution_count": null,
      "outputs": [
        {
          "output_type": "execute_result",
          "data": {
            "text/plain": [
              "{'o': 6, 'a': 2, 'e': 6, 'i': 4, 'u': 2}"
            ]
          },
          "metadata": {},
          "execution_count": 7
        }
      ]
    },
    {
      "cell_type": "markdown",
      "metadata": {
        "id": "CmFoI4jDS9nx"
      },
      "source": [
        "# Question 3 \n",
        "\n",
        "(15 points). The formula that describes the volume V of a sphere with radius r is the following:\n",
        "\n",
        "$ V=\\frac{4}{3}\\ast\\ \\pi\\ast\\ r^3 $\n",
        "\n",
        "Write a program to calculate the value of V when r is in the range of 1–10. Output the result in the following format:\n",
        "\n",
        "\tr\tV\n",
        "\t1\t…\n",
        "\t2\t…\n",
        "\t3\t…\n"
      ]
    },
    {
      "cell_type": "code",
      "execution_count": null,
      "metadata": {
        "colab": {
          "base_uri": "https://localhost:8080/"
        },
        "id": "pEyqeioAT95b",
        "outputId": "e23ef732-c0ff-4419-9c1d-b7c7070db301"
      },
      "outputs": [
        {
          "output_type": "stream",
          "name": "stdout",
          "text": [
            "r volume\n",
            "1 4.19047619047619\n",
            "2 33.52380952380952\n",
            "3 113.14285714285712\n",
            "4 268.19047619047615\n",
            "5 523.8095238095237\n",
            "6 905.142857142857\n",
            "7 1437.333333333333\n",
            "8 2145.523809523809\n",
            "9 3054.857142857142\n"
          ]
        }
      ],
      "source": [
        "pi=22/7\n",
        "print(\"r\",\"volume\")\n",
        "for r in range(1,10):\n",
        "  V=4/3* pi*(r**3)\n",
        "  print(r,V)\n",
        "\n",
        " \n"
      ]
    },
    {
      "cell_type": "markdown",
      "metadata": {
        "id": "z3tBE7E-Xn5X"
      },
      "source": [
        "# Question 4\n",
        "\n",
        "(40 points). In the field of Data Science, data is often formatted as a comma-delimited (CSV) file, where each line in a file corresponds to a field's value. Refer to Chapter 9 (p. 106) for more information on comma-delimited files. To answer this question, you will need to download the file [Assignment1_denton_housing.csv](https://raw.githubusercontent.com/unt-iialab/info5731-spring2022/main/assignments/Assignment1_denton_housing.csv) included with this assignment. The file [Assignment1_denton_housing.csv](https://raw.githubusercontent.com/unt-iialab/info5731-spring2022/main/assignments/Assignment1_denton_housing.csv) contains statistics about housing in the city of Denton from 2008 to 2014. Write a program to implement the following questions.\n",
        "\n",
        "(1) (10 pts) Calculate the difference in the number of Occupied Housing Units from year to year and print it. The difference must be calculated for the consecutive years such as 2008-2009, 2009-2010 etc. Finally, print the values in the ascending order.\n",
        "\n",
        "(2) (10 pts) For all the years, calculate the percentage of housing units which are vacant an occupied. Print the results in the following format:\n",
        "\n",
        "Year Vacant Housing Units Occupied Housing Units\n",
        "\n",
        "    2008  30%   70%                          \n",
        "\t2009 ----- -----\n",
        "\t2010 ----- -----\n",
        "    2011 ----- -----\n",
        "\t2012 ----- -----\n",
        "    2013 ----- -----\n",
        "\t2014 ----- -----\n",
        "  \n",
        "  \n",
        "\n",
        "(3) (10 pts) Calculate and print the valued and years in which the highest number of housing units were vacant and occupied. Print the results in the following format:  \n",
        "\n",
        "                              Year\tValue\n",
        "\tVacant Housing Units\t  -----   -----\n",
        "\tOccupied Housing Units\t-----   -----\n",
        "\n",
        "(4) (10 pts) Calculate the harmonic mean of the total housing units and print it out. You can find the information about harmonic mean here: https://ncalculators.com/statistics/harmonic-mean-calculator.htm"
      ]
    },
    {
      "cell_type": "markdown",
      "source": [
        "(1) Calculate the difference in the number of Occupied Housing Units from year to year and print it. The difference must be calculated for the consecutive years such as 2008-2009, 2009-2010 etc. Finally, print the values in the ascending order."
      ],
      "metadata": {
        "id": "lR9ncx8k2mkc"
      }
    },
    {
      "cell_type": "code",
      "execution_count": null,
      "metadata": {
        "colab": {
          "base_uri": "https://localhost:8080/"
        },
        "id": "lqGYuHBhcsRH",
        "outputId": "3e45c088-bd37-4e99-e75f-31843fc568fd"
      },
      "outputs": [
        {
          "output_type": "stream",
          "name": "stdout",
          "text": [
            "Mounted at /content/drive\n"
          ]
        }
      ],
      "source": [
        "from google.colab import drive\n",
        "drive.mount('/content/drive')\n",
        "\n",
        "\n"
      ]
    },
    {
      "cell_type": "code",
      "source": [
        "path='/content/drive/My Drive/Assignment1_denton_housing.csv'"
      ],
      "metadata": {
        "id": "Oj7ybvSWlffb"
      },
      "execution_count": null,
      "outputs": []
    },
    {
      "cell_type": "code",
      "source": [
        "data = open('/content/drive/My Drive/Assignment1_denton_housing.csv')"
      ],
      "metadata": {
        "id": "F1DYAa3al5zM"
      },
      "execution_count": null,
      "outputs": []
    },
    {
      "cell_type": "code",
      "source": [
        "import pandas as pd\n",
        "from collections import Counter\n",
        "df = pd.read_csv(path)\n",
        "p = Counter()\n"
      ],
      "metadata": {
        "id": "kbbYlGDvmF2f"
      },
      "execution_count": null,
      "outputs": []
    },
    {
      "cell_type": "code",
      "source": [
        "for j in sorted(list(set(df['year'])))[:-1]:\n",
        "  p_y = 0\n",
        "  n_y = 0\n",
        "  for col, row in df.iterrows():\n",
        "    if row['year'] == j and row['title_field'] == 'Occupied Housing Units':\n",
        "      p_y += row['value']\n",
        "    if row['year'] == j+1 and row['title_field'] == 'Occupied Housing Units':\n",
        "      n_y += row['value']\n",
        "  p[str(j)+'-'+str(j+1)] = abs(p_y - n_y)\n"
      ],
      "metadata": {
        "id": "j1GHKnKQe7ia"
      },
      "execution_count": null,
      "outputs": []
    },
    {
      "cell_type": "code",
      "source": [
        "val = sorted(list(p.values()))\n",
        "for value in val:\n",
        "  for key in p:\n",
        "    if value == p[key]:\n",
        "      print(key,':', value)"
      ],
      "metadata": {
        "colab": {
          "base_uri": "https://localhost:8080/"
        },
        "id": "nRjpVlbwfGWX",
        "outputId": "8906d932-e0b9-4014-88ac-7d1d6e9950e4"
      },
      "execution_count": null,
      "outputs": [
        {
          "output_type": "stream",
          "name": "stdout",
          "text": [
            "2010-2011 : 303\n",
            "2008-2009 : 795\n",
            "2011-2012 : 1404\n",
            "2012-2013 : 1565\n",
            "2013-2014 : 2622\n",
            "2009-2010 : 5091\n"
          ]
        }
      ]
    },
    {
      "cell_type": "markdown",
      "source": [
        "(2)For all the years, calculate the percentage of housing units which are vacant  an occupied. Print the results in the following format:\n",
        "\n",
        "Year Vacant Housing Units Occupied Housing Units"
      ],
      "metadata": {
        "id": "O58r2lXxrDx0"
      }
    },
    {
      "cell_type": "code",
      "source": [
        "for j in sorted(list(set(df['year']))):\n",
        "  t_h = 0\n",
        "  h_o = 0\n",
        "  h_v = 0\n",
        "  year = 0\n",
        "  for col, row in df.iterrows():\n",
        "    if row['year'] == j and row['title_field'] == 'Total Housing Units' :\n",
        "      year = row['year']\n",
        "      t_h = row['value']\n",
        "    if row['year'] == j and  row['title_field'] == 'Occupied Housing Units' :\n",
        "      h_o = row['value']\n",
        "    if row['year'] == j and  row['title_field'] == 'Vacant Housing Units' :\n",
        "      h_v = row['value']\n",
        "  h_o_p = int((h_o / t_h) * 100)\n",
        "  h_v_p = int((h_v / t_h) * 100)\n",
        "  print(year,\" \",str(h_v_p)+'%',\" \",str(h_o_p)+'%')"
      ],
      "metadata": {
        "colab": {
          "base_uri": "https://localhost:8080/"
        },
        "id": "T6zj1e3zhOdU",
        "outputId": "8e1edc8a-92f6-4b3e-b87d-5a50edc8c800"
      },
      "execution_count": null,
      "outputs": [
        {
          "output_type": "stream",
          "name": "stdout",
          "text": [
            "2008   10%   89%\n",
            "2009   9%   90%\n",
            "2010   8%   91%\n",
            "2011   9%   90%\n",
            "2012   6%   93%\n",
            "2013   8%   91%\n",
            "2014   5%   94%\n"
          ]
        }
      ]
    },
    {
      "cell_type": "markdown",
      "source": [
        " (3)Calculate and print the valued and years in which the highest number of housing units were vacant and occupied. Print the results in the following format:"
      ],
      "metadata": {
        "id": "TZju_Ok3rZSn"
      }
    },
    {
      "cell_type": "code",
      "source": [
        "n_max=0\n",
        "v_max=0\n",
        "n_year=0\n",
        "v_year=0\n",
        "for j in sorted(list(set(df['year']))):\n",
        " for col,row in df.iterrows():\n",
        "    if row['year'] == j and  row['title_field'] == 'Occupied Housing Units' :\n",
        "      if row['value']>n_max:\n",
        "        n_max=row['value']\n",
        "        n_year=row['year']\n",
        "    if row['year'] == j and  row['title_field'] == 'Vacant Housing Units' :\n",
        "      if row['value']>v_max:\n",
        "        v_max=row['value']\n",
        "        v_year=row['year']\n",
        "print('                       ', 'year',   'value')\n",
        "print('Occupied Housing Units ' , n_year,   n_max)\n",
        "print('Vacant Housing Units   ' ,  v_year , v_max  )"
      ],
      "metadata": {
        "colab": {
          "base_uri": "https://localhost:8080/"
        },
        "id": "uHY2b9FPpDvT",
        "outputId": "a5d6ab20-c8f7-40f3-a6e4-f81945640862"
      },
      "execution_count": null,
      "outputs": [
        {
          "output_type": "stream",
          "name": "stdout",
          "text": [
            "                        year value\n",
            "Occupied Housing Units  2014 46295\n",
            "Vacant Housing Units    2008 4483\n"
          ]
        }
      ]
    },
    {
      "cell_type": "markdown",
      "source": [
        "(4)Calculate the harmonic mean of the total housing units and print it out. You can find the information about harmonic mean here: "
      ],
      "metadata": {
        "id": "qd3O5Y16yqRx"
      }
    },
    {
      "cell_type": "code",
      "source": [
        "total_housing = list()\n",
        "for col, row in df.iterrows():\n",
        "  if row['title_field'] == 'Total Housing Units':\n",
        "    total_housing.append(row['value'])"
      ],
      "metadata": {
        "id": "Rr_rKKwvyJK-"
      },
      "execution_count": null,
      "outputs": []
    },
    {
      "cell_type": "code",
      "source": [
        "total = len(total_housing)\n",
        "d_v = 0\n",
        "for i in total_housing:\n",
        "  d_v += (1/i)\n",
        "print(total/d_v)"
      ],
      "metadata": {
        "colab": {
          "base_uri": "https://localhost:8080/"
        },
        "id": "3PRCANR2z2Et",
        "outputId": "89bfdd46-3025-4310-ea74-9fe9beb04c51"
      },
      "execution_count": null,
      "outputs": [
        {
          "output_type": "stream",
          "name": "stdout",
          "text": [
            "44398.28543969185\n"
          ]
        }
      ]
    },
    {
      "cell_type": "code",
      "source": [],
      "metadata": {
        "id": "vTJBkQQBHSHz"
      },
      "execution_count": null,
      "outputs": []
    }
  ],
  "metadata": {
    "colab": {
      "provenance": []
    },
    "kernelspec": {
      "display_name": "Python 3 (ipykernel)",
      "language": "python",
      "name": "python3"
    },
    "language_info": {
      "codemirror_mode": {
        "name": "ipython",
        "version": 3
      },
      "file_extension": ".py",
      "mimetype": "text/x-python",
      "name": "python",
      "nbconvert_exporter": "python",
      "pygments_lexer": "ipython3",
      "version": "3.9.12"
    }
  },
  "nbformat": 4,
  "nbformat_minor": 0
}