{
  "cells": [
    {
      "cell_type": "markdown",
      "metadata": {
        "id": "Iip3yBLwnbXl"
      },
      "source": [
        "## The second In-class-exercise (02/07/2023, 40 points in total)"
      ]
    },
    {
      "cell_type": "markdown",
      "metadata": {
        "id": "fo89t-VSnbXo"
      },
      "source": [
        "The purpose of this exercise is to understand users' information needs, then collect data from different sources for analysis."
      ]
    },
    {
      "cell_type": "markdown",
      "metadata": {
        "id": "xLgpKwcrnbXp"
      },
      "source": [
        "Question 1 (10 points): Describe an interesting research question (or practical question) you have in mind, what kind of data should be collected to answer the question(s)? How many data needed for the analysis? The detail steps for collecting and save the data. "
      ]
    },
    {
      "cell_type": "markdown",
      "metadata": {
        "id": "avElBkNio2wm"
      },
      "source": [
        "Spoken language identification using mel spectrogram.Recent studies shows that spoken language identification using log mel spectrogram shows good accuracy than shifted delta cepstral.There might be good accuracy if we use mel spectrogram using CNN.\n",
        "\n",
        "In order to solve this problem we need to collect different spoken language audios such as english,Hindi,Telugu etc..so we need MP3 files of 10 seconds or 15 seconds to solve this problem.After collecting this we need to extract spectrogram from this Mp3.The main reson for 10 seconds MP3 is if we have large MP3 file it takes time in order to train.\n",
        "\n",
        "Most of the datasets are already avaliable in Kaggle,google etc.But if we want to use we need to record different people audio clips.The main problem is that the noise which disturbs the whole training.The noise disturbance is resolved by using Guassian noise filter.The other strategy is to scrapy different audio files from different website which may give a good audio with no disturbance.\n",
        "\n",
        "In order to train CNN it requires more images.Around 10,000 plus spectrographic images for each language is required to train the model.For each language we need 10,000 audio files which are saved as mp3 format.Those files are later saved in dataset in which one column contain path of audio and another contain their respected language names.\n",
        "\n",
        "Most of the datasets are already avaliable in Kaggle,google etc.For example a dataset with german,french is available in kaggle which contain 80,000 plus audiofiles.Another way is to record different community people voice which may result in lack of audio files for specific language.Another way is to scrape audio files from different websites.After scraping the files we can formulate it in dataframe in which one coulumn contains its respective language name."
      ]
    },
    {
      "cell_type": "markdown",
      "metadata": {
        "id": "GhVfJp7VnbXt"
      },
      "source": [
        "Question 2 (10 points): Write python code to collect 1000 data samples you discussed above."
      ]
    },
    {
      "cell_type": "markdown",
      "metadata": {
        "id": "-a_YDbiUp-1h"
      },
      "source": [
        "One way to collecte data: one way to get data is to download from the kaggle website(https://www.kaggle.com/datasets/toponowicz/spoken-language-identification ) this dataset contain 3 different languages(english, germany, spanish) with 80000+ audio files."
      ]
    },
    {
      "cell_type": "markdown",
      "metadata": {
        "id": "hBX8e5G7qBOf"
      },
      "source": [
        "other way to collect data other way to collect data is to scraping audio files from different website the below code show the example of scrapping data from (https://www.audio-lingua.eu/?lang=en ) website."
      ]
    },
    {
      "cell_type": "code",
      "execution_count": 3,
      "metadata": {
        "id": "sS7qJEepqICS"
      },
      "outputs": [],
      "source": [
        "#importing packages \n",
        "import requests\n",
        "from bs4 import BeautifulSoup\n",
        "import pandas as pd"
      ]
    },
    {
      "cell_type": "code",
      "execution_count": 4,
      "metadata": {
        "id": "ydIyWQqAqRSI"
      },
      "outputs": [],
      "source": [
        "#creating dataset with 2 columns one for audiolinks and other for its respected langauge\n",
        "df = pd.DataFrame(columns = ['url', 'language'])"
      ]
    },
    {
      "cell_type": "code",
      "execution_count": 5,
      "metadata": {
        "id": "58dAGXGgqgUe"
      },
      "outputs": [],
      "source": [
        "#get loading website https://www.audio-lingua.eu/?lang=en\n",
        "url = 'https://www.audio-lingua.eu/?lang=en'\n",
        "page = requests.get(url)"
      ]
    },
    {
      "cell_type": "code",
      "execution_count": 6,
      "metadata": {
        "id": "ejXDXjElqsSy"
      },
      "outputs": [],
      "source": [
        "#parsing website using beautifulsoup\n",
        "soup = BeautifulSoup(page.content, \"html.parser\")\n",
        "result = soup.find_all(\"div\", class_=\"logolangue\")"
      ]
    },
    {
      "cell_type": "code",
      "execution_count": 7,
      "metadata": {
        "id": "3RvksNQXq-Jj"
      },
      "outputs": [],
      "source": [
        "#finding different language links\n",
        "links = []\n",
        "main_url = 'https://www.audio-lingua.eu/'\n",
        "for i in result:\n",
        "  a_tag = i.find('a')\n",
        "  name = i.find('h2')\n",
        "  name = name.text\n",
        "  link = a_tag['href']\n",
        "  link = main_url + link\n",
        "  links.append([link, name])"
      ]
    },
    {
      "cell_type": "code",
      "execution_count": 26,
      "metadata": {
        "id": "A2YFUdpHrE48"
      },
      "outputs": [],
      "source": [
        "#loading different languages files into dataset\n",
        "for i in links :\n",
        "  for j in range(0,500,5):\n",
        "    url1 = i[0]+'&lang=fr&debut_articles='+str(j)+'#pagination_articles'\n",
        "    page = requests.get(url1)\n",
        "    soup1 = BeautifulSoup(page.content, \"html.parser\")\n",
        "    result1 = soup1.find_all(\"audio\", class_=\"player\")\n",
        "    for j in result1:\n",
        "      audio = j.find('source')['src']\n",
        "      audio_link = main_url+audio\n",
        "      df.loc[len(df.index)] = [audio_link, i[1]]\n",
        "  \n",
        "  "
      ]
    },
    {
      "cell_type": "code",
      "source": [
        "df"
      ],
      "metadata": {
        "colab": {
          "base_uri": "https://localhost:8080/",
          "height": 419
        },
        "id": "ilXsqLYh9Xat",
        "outputId": "0381f7ad-fcbc-44d1-e049-075e9a6e5f58"
      },
      "execution_count": 27,
      "outputs": [
        {
          "output_type": "execute_result",
          "data": {
            "text/plain": [
              "                                                     url language\n",
              "0      https://www.audio-lingua.eu/IMG/mp3/anniv_1_de...   French\n",
              "1      https://www.audio-lingua.eu/IMG/mp3/baptiste_p...   French\n",
              "2      https://www.audio-lingua.eu/IMG/mp3/andreea_po...   French\n",
              "3      https://www.audio-lingua.eu/IMG/mp3/alois_pour...   French\n",
              "4         https://www.audio-lingua.eu/IMG/mp3/alexis.mp3   French\n",
              "...                                                  ...      ...\n",
              "25470  https://www.audio-lingua.eu/IMG/mp3/Emmanuelle...   French\n",
              "25471  https://www.audio-lingua.eu/IMG/mp3/STE-000ver...   French\n",
              "25472  https://www.audio-lingua.eu/IMG/mp3/az_antonin...   French\n",
              "25473  https://www.audio-lingua.eu/IMG/mp3/dominos-1_...   French\n",
              "25474  https://www.audio-lingua.eu/IMG/mp3/audiolingu...   French\n",
              "\n",
              "[25475 rows x 2 columns]"
            ],
            "text/html": [
              "\n",
              "  <div id=\"df-0535a269-27c1-478a-81bf-84a56128a6bb\">\n",
              "    <div class=\"colab-df-container\">\n",
              "      <div>\n",
              "<style scoped>\n",
              "    .dataframe tbody tr th:only-of-type {\n",
              "        vertical-align: middle;\n",
              "    }\n",
              "\n",
              "    .dataframe tbody tr th {\n",
              "        vertical-align: top;\n",
              "    }\n",
              "\n",
              "    .dataframe thead th {\n",
              "        text-align: right;\n",
              "    }\n",
              "</style>\n",
              "<table border=\"1\" class=\"dataframe\">\n",
              "  <thead>\n",
              "    <tr style=\"text-align: right;\">\n",
              "      <th></th>\n",
              "      <th>url</th>\n",
              "      <th>language</th>\n",
              "    </tr>\n",
              "  </thead>\n",
              "  <tbody>\n",
              "    <tr>\n",
              "      <th>0</th>\n",
              "      <td>https://www.audio-lingua.eu/IMG/mp3/anniv_1_de...</td>\n",
              "      <td>French</td>\n",
              "    </tr>\n",
              "    <tr>\n",
              "      <th>1</th>\n",
              "      <td>https://www.audio-lingua.eu/IMG/mp3/baptiste_p...</td>\n",
              "      <td>French</td>\n",
              "    </tr>\n",
              "    <tr>\n",
              "      <th>2</th>\n",
              "      <td>https://www.audio-lingua.eu/IMG/mp3/andreea_po...</td>\n",
              "      <td>French</td>\n",
              "    </tr>\n",
              "    <tr>\n",
              "      <th>3</th>\n",
              "      <td>https://www.audio-lingua.eu/IMG/mp3/alois_pour...</td>\n",
              "      <td>French</td>\n",
              "    </tr>\n",
              "    <tr>\n",
              "      <th>4</th>\n",
              "      <td>https://www.audio-lingua.eu/IMG/mp3/alexis.mp3</td>\n",
              "      <td>French</td>\n",
              "    </tr>\n",
              "    <tr>\n",
              "      <th>...</th>\n",
              "      <td>...</td>\n",
              "      <td>...</td>\n",
              "    </tr>\n",
              "    <tr>\n",
              "      <th>25470</th>\n",
              "      <td>https://www.audio-lingua.eu/IMG/mp3/Emmanuelle...</td>\n",
              "      <td>French</td>\n",
              "    </tr>\n",
              "    <tr>\n",
              "      <th>25471</th>\n",
              "      <td>https://www.audio-lingua.eu/IMG/mp3/STE-000ver...</td>\n",
              "      <td>French</td>\n",
              "    </tr>\n",
              "    <tr>\n",
              "      <th>25472</th>\n",
              "      <td>https://www.audio-lingua.eu/IMG/mp3/az_antonin...</td>\n",
              "      <td>French</td>\n",
              "    </tr>\n",
              "    <tr>\n",
              "      <th>25473</th>\n",
              "      <td>https://www.audio-lingua.eu/IMG/mp3/dominos-1_...</td>\n",
              "      <td>French</td>\n",
              "    </tr>\n",
              "    <tr>\n",
              "      <th>25474</th>\n",
              "      <td>https://www.audio-lingua.eu/IMG/mp3/audiolingu...</td>\n",
              "      <td>French</td>\n",
              "    </tr>\n",
              "  </tbody>\n",
              "</table>\n",
              "<p>25475 rows × 2 columns</p>\n",
              "</div>\n",
              "      <button class=\"colab-df-convert\" onclick=\"convertToInteractive('df-0535a269-27c1-478a-81bf-84a56128a6bb')\"\n",
              "              title=\"Convert this dataframe to an interactive table.\"\n",
              "              style=\"display:none;\">\n",
              "        \n",
              "  <svg xmlns=\"http://www.w3.org/2000/svg\" height=\"24px\"viewBox=\"0 0 24 24\"\n",
              "       width=\"24px\">\n",
              "    <path d=\"M0 0h24v24H0V0z\" fill=\"none\"/>\n",
              "    <path d=\"M18.56 5.44l.94 2.06.94-2.06 2.06-.94-2.06-.94-.94-2.06-.94 2.06-2.06.94zm-11 1L8.5 8.5l.94-2.06 2.06-.94-2.06-.94L8.5 2.5l-.94 2.06-2.06.94zm10 10l.94 2.06.94-2.06 2.06-.94-2.06-.94-.94-2.06-.94 2.06-2.06.94z\"/><path d=\"M17.41 7.96l-1.37-1.37c-.4-.4-.92-.59-1.43-.59-.52 0-1.04.2-1.43.59L10.3 9.45l-7.72 7.72c-.78.78-.78 2.05 0 2.83L4 21.41c.39.39.9.59 1.41.59.51 0 1.02-.2 1.41-.59l7.78-7.78 2.81-2.81c.8-.78.8-2.07 0-2.86zM5.41 20L4 18.59l7.72-7.72 1.47 1.35L5.41 20z\"/>\n",
              "  </svg>\n",
              "      </button>\n",
              "      \n",
              "  <style>\n",
              "    .colab-df-container {\n",
              "      display:flex;\n",
              "      flex-wrap:wrap;\n",
              "      gap: 12px;\n",
              "    }\n",
              "\n",
              "    .colab-df-convert {\n",
              "      background-color: #E8F0FE;\n",
              "      border: none;\n",
              "      border-radius: 50%;\n",
              "      cursor: pointer;\n",
              "      display: none;\n",
              "      fill: #1967D2;\n",
              "      height: 32px;\n",
              "      padding: 0 0 0 0;\n",
              "      width: 32px;\n",
              "    }\n",
              "\n",
              "    .colab-df-convert:hover {\n",
              "      background-color: #E2EBFA;\n",
              "      box-shadow: 0px 1px 2px rgba(60, 64, 67, 0.3), 0px 1px 3px 1px rgba(60, 64, 67, 0.15);\n",
              "      fill: #174EA6;\n",
              "    }\n",
              "\n",
              "    [theme=dark] .colab-df-convert {\n",
              "      background-color: #3B4455;\n",
              "      fill: #D2E3FC;\n",
              "    }\n",
              "\n",
              "    [theme=dark] .colab-df-convert:hover {\n",
              "      background-color: #434B5C;\n",
              "      box-shadow: 0px 1px 3px 1px rgba(0, 0, 0, 0.15);\n",
              "      filter: drop-shadow(0px 1px 2px rgba(0, 0, 0, 0.3));\n",
              "      fill: #FFFFFF;\n",
              "    }\n",
              "  </style>\n",
              "\n",
              "      <script>\n",
              "        const buttonEl =\n",
              "          document.querySelector('#df-0535a269-27c1-478a-81bf-84a56128a6bb button.colab-df-convert');\n",
              "        buttonEl.style.display =\n",
              "          google.colab.kernel.accessAllowed ? 'block' : 'none';\n",
              "\n",
              "        async function convertToInteractive(key) {\n",
              "          const element = document.querySelector('#df-0535a269-27c1-478a-81bf-84a56128a6bb');\n",
              "          const dataTable =\n",
              "            await google.colab.kernel.invokeFunction('convertToInteractive',\n",
              "                                                     [key], {});\n",
              "          if (!dataTable) return;\n",
              "\n",
              "          const docLinkHtml = 'Like what you see? Visit the ' +\n",
              "            '<a target=\"_blank\" href=https://colab.research.google.com/notebooks/data_table.ipynb>data table notebook</a>'\n",
              "            + ' to learn more about interactive tables.';\n",
              "          element.innerHTML = '';\n",
              "          dataTable['output_type'] = 'display_data';\n",
              "          await google.colab.output.renderOutput(dataTable, element);\n",
              "          const docLink = document.createElement('div');\n",
              "          docLink.innerHTML = docLinkHtml;\n",
              "          element.appendChild(docLink);\n",
              "        }\n",
              "      </script>\n",
              "    </div>\n",
              "  </div>\n",
              "  "
            ]
          },
          "metadata": {},
          "execution_count": 27
        }
      ]
    },
    {
      "cell_type": "markdown",
      "metadata": {
        "id": "XkzuO2hZnbXw"
      },
      "source": [
        "Question 3 (10 points): Write python code to collect 1000 articles from Google Scholar (https://scholar.google.com/), Microsoft Academic (https://academic.microsoft.com/home), or CiteSeerX (https://citeseerx.ist.psu.edu/index), or Semantic Scholar (https://www.semanticscholar.org/), or ACM Digital Libraries (https://dl.acm.org/) with the keyword \"information retrieval\". The articles should be published in the last 10 years (2012-2022).\n",
        "\n",
        "The following information of the article needs to be collected:\n",
        "\n",
        "(1) Title\n",
        "\n",
        "(2) Venue/journal/conference being published\n",
        "\n",
        "(3) Year\n",
        "\n",
        "(4) Authors\n",
        "\n",
        "(5) Abstract"
      ]
    },
    {
      "cell_type": "code",
      "execution_count": 62,
      "metadata": {
        "id": "7CYG8zNPnbXx",
        "colab": {
          "base_uri": "https://localhost:8080/",
          "height": 291
        },
        "outputId": "019df091-161d-4a43-ba24-f2c6a1e53c6a"
      },
      "outputs": [
        {
          "output_type": "stream",
          "name": "stdout",
          "text": [
            "{\"total\": 11259913, \"offset\": 100, \"next\": 103, \"data\": [{\"paperId\": \"17c9b8f671e451114016f8bd11606b4324ab50d3\", \"url\": \"https://www.semanticscholar.org/paper/17c9b8f671e451114016f8bd11606b4324ab50d3\", \"title\": \"Room-Temperature Ferromagnetism in Transparent Transition Metal-Doped Titanium Dioxide\", \"abstract\": \"Dilute magnetic semiconductors and wide gap oxide semiconductors are appealing materials for magnetooptical devices. From a combinatorial screening approach looking at the solid solubility of transition metals in titanium dioxides and of their magnetic properties, we report on the observation of transparent ferromagnetism in cobalt-doped anatase thin films with the concentration of cobalt between 0 and 8%. Magnetic microscopy images reveal a magnetic domain structure in the films, indicating the existence of ferromagnetic long-range ordering. The materials remain ferromagnetic above room temperature with a magnetic moment of 0.32 Bohr magnetons per cobalt atom. The film is conductive and exhibits a positive magnetoresistance of 60% at 2 kelvin.\", \"authors\": [{\"authorId\": \"144982479\", \"name\": \"Y. Matsumoto\"}, {\"authorId\": \"92094500\", \"name\": \"M. Murakami\"}, {\"authorId\": \"2132475101\", \"name\": \"Tomoji Shono\"}, {\"authorId\": \"50031978\", \"name\": \"T. Hasegawa\"}, {\"authorId\": \"48194784\", \"name\": \"T. Fukumura\"}, {\"authorId\": \"48676614\", \"name\": \"M. Kawasaki\"}, {\"authorId\": \"2831682\", \"name\": \"P. Ahmet\"}, {\"authorId\": \"46715777\", \"name\": \"T. Chikyow\"}, {\"authorId\": \"5076920\", \"name\": \"S. Koshihara\"}, {\"authorId\": \"3708900\", \"name\": \"H. Koinuma\"}]}, {\"paperId\": \"f7b190eb795d4cc594e45569d150f85eac5c5f0a\", \"url\": \"https://www.semanticscholar.org/paper/f7b190eb795d4cc594e45569d150f85eac5c5f0a\", \"title\": \"Global patterns of plant leaf N and P in relation to temperature and latitude.\", \"abstract\": \"A global data set including 5,087 observations of leaf nitrogen (N) and phosphorus (P) for 1,280 plant species at 452 sites and of associated mean climate indices demonstrates broad biogeographic patterns. In general, leaf N and P decline and the N/P ratio increases toward the equator as average temperature and growing season length increase. These patterns are similar for five dominant plant groups, coniferous trees and four angiosperm groups (grasses, herbs, shrubs, and trees). These results support the hypotheses that (i) leaf N and P increase from the tropics to the cooler and drier midlatitudes because of temperature-related plant physiological stoichiometry and biogeographical gradients in soil substrate age and then plateau or decrease at high latitudes because of cold temperature effects on biogeochemistry and (ii) the N/P ratio increases with mean temperature and toward the equator, because P is a major limiting nutrient in older tropical soils and N is the major limiting nutrient in younger temperate and high-latitude soils.\", \"authors\": [{\"authorId\": \"2829427\", \"name\": \"P. Reich\"}, {\"authorId\": \"5322133\", \"name\": \"J. Oleksyn\"}]}, {\"paperId\": \"56adf5e89725c605370df8f8819518f8a4c4507c\", \"url\": \"https://www.semanticscholar.org/paper/56adf5e89725c605370df8f8819518f8a4c4507c\", \"title\": \"Theta, time reversal and temperature\", \"abstract\": null, \"authors\": [{\"authorId\": \"88642716\", \"name\": \"D. Gaiotto\"}, {\"authorId\": \"144745735\", \"name\": \"A. Kapustin\"}, {\"authorId\": \"2808197\", \"name\": \"Z. Komargodski\"}, {\"authorId\": \"89852205\", \"name\": \"N. Seiberg\"}]}]}\n",
            "\n"
          ]
        },
        {
          "output_type": "execute_result",
          "data": {
            "text/plain": [
              "                                    paperId  \\\n",
              "0  17c9b8f671e451114016f8bd11606b4324ab50d3   \n",
              "1  f7b190eb795d4cc594e45569d150f85eac5c5f0a   \n",
              "2  56adf5e89725c605370df8f8819518f8a4c4507c   \n",
              "\n",
              "                                                 url  \\\n",
              "0  https://www.semanticscholar.org/paper/17c9b8f6...   \n",
              "1  https://www.semanticscholar.org/paper/f7b190eb...   \n",
              "2  https://www.semanticscholar.org/paper/56adf5e8...   \n",
              "\n",
              "                                               title  \\\n",
              "0  Room-Temperature Ferromagnetism in Transparent...   \n",
              "1  Global patterns of plant leaf N and P in relat...   \n",
              "2               Theta, time reversal and temperature   \n",
              "\n",
              "                                            abstract  \\\n",
              "0  Dilute magnetic semiconductors and wide gap ox...   \n",
              "1  A global data set including 5,087 observations...   \n",
              "2                                               None   \n",
              "\n",
              "                                             authors  \n",
              "0  [{'authorId': '144982479', 'name': 'Y. Matsumo...  \n",
              "1  [{'authorId': '2829427', 'name': 'P. Reich'}, ...  \n",
              "2  [{'authorId': '88642716', 'name': 'D. Gaiotto'...  "
            ],
            "text/html": [
              "\n",
              "  <div id=\"df-01c1a9ca-e474-438e-ae3b-bc0a8c968ee7\">\n",
              "    <div class=\"colab-df-container\">\n",
              "      <div>\n",
              "<style scoped>\n",
              "    .dataframe tbody tr th:only-of-type {\n",
              "        vertical-align: middle;\n",
              "    }\n",
              "\n",
              "    .dataframe tbody tr th {\n",
              "        vertical-align: top;\n",
              "    }\n",
              "\n",
              "    .dataframe thead th {\n",
              "        text-align: right;\n",
              "    }\n",
              "</style>\n",
              "<table border=\"1\" class=\"dataframe\">\n",
              "  <thead>\n",
              "    <tr style=\"text-align: right;\">\n",
              "      <th></th>\n",
              "      <th>paperId</th>\n",
              "      <th>url</th>\n",
              "      <th>title</th>\n",
              "      <th>abstract</th>\n",
              "      <th>authors</th>\n",
              "    </tr>\n",
              "  </thead>\n",
              "  <tbody>\n",
              "    <tr>\n",
              "      <th>0</th>\n",
              "      <td>17c9b8f671e451114016f8bd11606b4324ab50d3</td>\n",
              "      <td>https://www.semanticscholar.org/paper/17c9b8f6...</td>\n",
              "      <td>Room-Temperature Ferromagnetism in Transparent...</td>\n",
              "      <td>Dilute magnetic semiconductors and wide gap ox...</td>\n",
              "      <td>[{'authorId': '144982479', 'name': 'Y. Matsumo...</td>\n",
              "    </tr>\n",
              "    <tr>\n",
              "      <th>1</th>\n",
              "      <td>f7b190eb795d4cc594e45569d150f85eac5c5f0a</td>\n",
              "      <td>https://www.semanticscholar.org/paper/f7b190eb...</td>\n",
              "      <td>Global patterns of plant leaf N and P in relat...</td>\n",
              "      <td>A global data set including 5,087 observations...</td>\n",
              "      <td>[{'authorId': '2829427', 'name': 'P. Reich'}, ...</td>\n",
              "    </tr>\n",
              "    <tr>\n",
              "      <th>2</th>\n",
              "      <td>56adf5e89725c605370df8f8819518f8a4c4507c</td>\n",
              "      <td>https://www.semanticscholar.org/paper/56adf5e8...</td>\n",
              "      <td>Theta, time reversal and temperature</td>\n",
              "      <td>None</td>\n",
              "      <td>[{'authorId': '88642716', 'name': 'D. Gaiotto'...</td>\n",
              "    </tr>\n",
              "  </tbody>\n",
              "</table>\n",
              "</div>\n",
              "      <button class=\"colab-df-convert\" onclick=\"convertToInteractive('df-01c1a9ca-e474-438e-ae3b-bc0a8c968ee7')\"\n",
              "              title=\"Convert this dataframe to an interactive table.\"\n",
              "              style=\"display:none;\">\n",
              "        \n",
              "  <svg xmlns=\"http://www.w3.org/2000/svg\" height=\"24px\"viewBox=\"0 0 24 24\"\n",
              "       width=\"24px\">\n",
              "    <path d=\"M0 0h24v24H0V0z\" fill=\"none\"/>\n",
              "    <path d=\"M18.56 5.44l.94 2.06.94-2.06 2.06-.94-2.06-.94-.94-2.06-.94 2.06-2.06.94zm-11 1L8.5 8.5l.94-2.06 2.06-.94-2.06-.94L8.5 2.5l-.94 2.06-2.06.94zm10 10l.94 2.06.94-2.06 2.06-.94-2.06-.94-.94-2.06-.94 2.06-2.06.94z\"/><path d=\"M17.41 7.96l-1.37-1.37c-.4-.4-.92-.59-1.43-.59-.52 0-1.04.2-1.43.59L10.3 9.45l-7.72 7.72c-.78.78-.78 2.05 0 2.83L4 21.41c.39.39.9.59 1.41.59.51 0 1.02-.2 1.41-.59l7.78-7.78 2.81-2.81c.8-.78.8-2.07 0-2.86zM5.41 20L4 18.59l7.72-7.72 1.47 1.35L5.41 20z\"/>\n",
              "  </svg>\n",
              "      </button>\n",
              "      \n",
              "  <style>\n",
              "    .colab-df-container {\n",
              "      display:flex;\n",
              "      flex-wrap:wrap;\n",
              "      gap: 12px;\n",
              "    }\n",
              "\n",
              "    .colab-df-convert {\n",
              "      background-color: #E8F0FE;\n",
              "      border: none;\n",
              "      border-radius: 50%;\n",
              "      cursor: pointer;\n",
              "      display: none;\n",
              "      fill: #1967D2;\n",
              "      height: 32px;\n",
              "      padding: 0 0 0 0;\n",
              "      width: 32px;\n",
              "    }\n",
              "\n",
              "    .colab-df-convert:hover {\n",
              "      background-color: #E2EBFA;\n",
              "      box-shadow: 0px 1px 2px rgba(60, 64, 67, 0.3), 0px 1px 3px 1px rgba(60, 64, 67, 0.15);\n",
              "      fill: #174EA6;\n",
              "    }\n",
              "\n",
              "    [theme=dark] .colab-df-convert {\n",
              "      background-color: #3B4455;\n",
              "      fill: #D2E3FC;\n",
              "    }\n",
              "\n",
              "    [theme=dark] .colab-df-convert:hover {\n",
              "      background-color: #434B5C;\n",
              "      box-shadow: 0px 1px 3px 1px rgba(0, 0, 0, 0.15);\n",
              "      filter: drop-shadow(0px 1px 2px rgba(0, 0, 0, 0.3));\n",
              "      fill: #FFFFFF;\n",
              "    }\n",
              "  </style>\n",
              "\n",
              "      <script>\n",
              "        const buttonEl =\n",
              "          document.querySelector('#df-01c1a9ca-e474-438e-ae3b-bc0a8c968ee7 button.colab-df-convert');\n",
              "        buttonEl.style.display =\n",
              "          google.colab.kernel.accessAllowed ? 'block' : 'none';\n",
              "\n",
              "        async function convertToInteractive(key) {\n",
              "          const element = document.querySelector('#df-01c1a9ca-e474-438e-ae3b-bc0a8c968ee7');\n",
              "          const dataTable =\n",
              "            await google.colab.kernel.invokeFunction('convertToInteractive',\n",
              "                                                     [key], {});\n",
              "          if (!dataTable) return;\n",
              "\n",
              "          const docLinkHtml = 'Like what you see? Visit the ' +\n",
              "            '<a target=\"_blank\" href=https://colab.research.google.com/notebooks/data_table.ipynb>data table notebook</a>'\n",
              "            + ' to learn more about interactive tables.';\n",
              "          element.innerHTML = '';\n",
              "          dataTable['output_type'] = 'display_data';\n",
              "          await google.colab.output.renderOutput(dataTable, element);\n",
              "          const docLink = document.createElement('div');\n",
              "          docLink.innerHTML = docLinkHtml;\n",
              "          element.appendChild(docLink);\n",
              "        }\n",
              "      </script>\n",
              "    </div>\n",
              "  </div>\n",
              "  "
            ]
          },
          "metadata": {},
          "execution_count": 62
        }
      ],
      "source": [
        "# You code here (Please add comments in the code):\n",
        "import pandas as pd\n",
        "import numpy as np\n",
        "import requests\n",
        "from bs4 import BeautifulSoup\n",
        "import re\n",
        "import time\n",
        "\n",
        "\n",
        "#Importing the required modules.\n",
        "import requests\n",
        "import json\n",
        "\n",
        "#Creating the variable topic with the value as the keyword we need to search for in the semantic scholar articles.\n",
        "topic = 'Temperature'\n",
        "#Storing the URL variable with dynamic query keywod you need to search for and the different queryparameters.\n",
        "#To understand the queryparams, headers etc to hit the api in a correct way, check the following url. \n",
        "#https://api.semanticscholar.org/api-docs/graph\n",
        "\n",
        "# Meanwhile, through an API (Application Programming Interface), one can gain access to the data of an application or operating system. \n",
        "# Therefore, APIs depend on the owner of the said dataset. The data can be either offered for free or be available at a cost. \n",
        "# The owner can also limit the number of requests that a single user can make or the amount of data they can access.\n",
        "url = \"https://api.semanticscholar.org/graph/v1/paper/search?query=\"+ topic + \"&offset=100&limit=3&fields=url,title,abstract,authors\"\n",
        "\n",
        "#Creating the empty payload and headers dictionary, as we are simply using the GET API here. Check the documentation.\n",
        "payload={}\n",
        "headers = {}\n",
        "\n",
        "# Hitting the GET api using the request module, with \"GET\" method as the API method, URL with the dynamic URL created in the previous step, headers and payload.\n",
        "response = requests.request(\"GET\", url, headers=headers, data=payload)\n",
        "\n",
        "#Just printing the response text from the above hit.\n",
        "print(response.text)\n",
        "\n",
        "#As the data we received is text, we need to convert them into the json using the json.loads fucntion.\n",
        "#This conversion is possible as the text we received from GET method contains the formatted json data converted to string.\n",
        "data = json.loads(response.text)['data']\n",
        "#Created the pandas dataframe object using the json data we generated in previous step.\n",
        "df = pd.DataFrame(data)\n",
        "df.head()\n"
      ]
    },
    {
      "cell_type": "markdown",
      "metadata": {
        "id": "kfsyvWxsnbXy"
      },
      "source": [
        "Question 4 (10 points): Write python code to collect 1000 posts from Twitter, or Facebook, or Instagram. You can either use hashtags, keywords, user_name, user_id, or other information to collect the data. \n",
        "\n",
        "The following information needs to be collected:\n",
        "\n",
        "(1) User_name\n",
        "\n",
        "(2) Posted time\n",
        "\n",
        "(3) Text "
      ]
    },
    {
      "cell_type": "code",
      "execution_count": 32,
      "metadata": {
        "id": "WEgGnwnonbXz"
      },
      "outputs": [],
      "source": [
        "# You code here (Please add comments in the code):\n",
        "import pandas as pd\n",
        "import numpy as np\n",
        "import tweepy\n",
        "from tweepy import OAuthHandler\n",
        "import requests\n",
        "import json"
      ]
    },
    {
      "cell_type": "code",
      "source": [
        "\n",
        "consumer_key =\"2Em7SxlX9jPMfL4x97r3zMO0x\"\n",
        "consumer_secret = \"sVbJzekKuiAgq83Y7gCwNVbSowqQokGVzWexKHl2cXIPceWtSd\"\n",
        "access_token =\"1439767876962029572-uUMt8oWRyzj9ilE5zk4uYbL93sCMPT\"\n",
        "access_token_secret = \"oydIGymn9bS767FVEMawE9GyGAnMmBJfaY2XXKmHnmliF\""
      ],
      "metadata": {
        "id": "iXe-ZyAjBBz4"
      },
      "execution_count": 33,
      "outputs": []
    },
    {
      "cell_type": "code",
      "source": [
        "auth= tweepy.OAuthHandler(consumer_key, consumer_secret)\n",
        "auth.set_access_token(access_token, access_token_secret)"
      ],
      "metadata": {
        "id": "95RttQoQEu2c"
      },
      "execution_count": 59,
      "outputs": []
    },
    {
      "cell_type": "code",
      "source": [
        "api_auth = tweepy.API(auth,wait_on_rate_limit=True)\n",
        "user_name =str(input(\"Enter the user name\\n\"))\n"
      ],
      "metadata": {
        "colab": {
          "base_uri": "https://localhost:8080/"
        },
        "id": "yFx9IaaOEyGb",
        "outputId": "f3961f47-ad24-4135-b9a8-cd1e5711524a"
      },
      "execution_count": 60,
      "outputs": [
        {
          "name": "stdout",
          "output_type": "stream",
          "text": [
            "Enter the user name\n",
            "@TeamMessi\n"
          ]
        }
      ]
    },
    {
      "cell_type": "code",
      "source": [
        "twe = tweepy.Cursor(api_auth.user_timeline, id=user_name).items(1000)\n",
        "\n",
        "tweets_df = [[user_name ,tweet.created_at, tweet.text] for tweet in twe]\n",
        "\n",
        "tweet = pd.DataFrame(tweets_df)\n",
        "tweet.columns=['user_name','posted time','text']\n",
        "tweet"
      ],
      "metadata": {
        "colab": {
          "base_uri": "https://localhost:8080/",
          "height": 419
        },
        "id": "PcK_239oE2CZ",
        "outputId": "a3d9ed7e-9626-48a5-b3f5-967587e24bf8"
      },
      "execution_count": 61,
      "outputs": [
        {
          "output_type": "execute_result",
          "data": {
            "text/plain": [
              "      user_name         posted time  \\\n",
              "0    @TeamMessi 2022-12-19 17:36:54   \n",
              "1    @TeamMessi 2021-02-12 09:18:25   \n",
              "2    @TeamMessi 2020-12-23 10:50:07   \n",
              "3    @TeamMessi 2020-02-23 10:06:09   \n",
              "4    @TeamMessi 2020-02-22 17:33:14   \n",
              "..          ...                 ...   \n",
              "995  @TeamMessi 2015-06-16 17:56:19   \n",
              "996  @TeamMessi 2015-06-16 17:52:59   \n",
              "997  @TeamMessi 2015-06-16 17:50:37   \n",
              "998  @TeamMessi 2015-06-16 16:46:15   \n",
              "999  @TeamMessi 2015-06-16 16:45:55   \n",
              "\n",
              "                                                  text  \n",
              "0    RT @adidasfootball: Impossible is Nothing http...  \n",
              "1    RT @adidasfootball: \"Reaching this historic mi...  \n",
              "2    RT @adidasfootball: 644.\\n\\nFrom scoring his f...  \n",
              "3    RT @SDEibar: Te sufrimos.\\nTe padecemos.\\nTe s...  \n",
              "4    RT @adidasfootball: Greatness.\\nLeo Messi, the...  \n",
              "..                                                 ...  \n",
              "995        @TheNumber10Role Prove it. #BeTheDifference  \n",
              "996  @miguenito86 Claro, es que @charlyiacono se in...  \n",
              "997  @AndresRashed Glad you like it, Andres. Our fr...  \n",
              "998  Inspired by his icon Leo Messi. Meet @charlyia...  \n",
              "999  Inspirado por Messi. Conocé a @charlyiacono, c...  \n",
              "\n",
              "[1000 rows x 3 columns]"
            ],
            "text/html": [
              "\n",
              "  <div id=\"df-b17d193a-2ec8-4b36-96cf-fa13b1c69ba5\">\n",
              "    <div class=\"colab-df-container\">\n",
              "      <div>\n",
              "<style scoped>\n",
              "    .dataframe tbody tr th:only-of-type {\n",
              "        vertical-align: middle;\n",
              "    }\n",
              "\n",
              "    .dataframe tbody tr th {\n",
              "        vertical-align: top;\n",
              "    }\n",
              "\n",
              "    .dataframe thead th {\n",
              "        text-align: right;\n",
              "    }\n",
              "</style>\n",
              "<table border=\"1\" class=\"dataframe\">\n",
              "  <thead>\n",
              "    <tr style=\"text-align: right;\">\n",
              "      <th></th>\n",
              "      <th>user_name</th>\n",
              "      <th>posted time</th>\n",
              "      <th>text</th>\n",
              "    </tr>\n",
              "  </thead>\n",
              "  <tbody>\n",
              "    <tr>\n",
              "      <th>0</th>\n",
              "      <td>@TeamMessi</td>\n",
              "      <td>2022-12-19 17:36:54</td>\n",
              "      <td>RT @adidasfootball: Impossible is Nothing http...</td>\n",
              "    </tr>\n",
              "    <tr>\n",
              "      <th>1</th>\n",
              "      <td>@TeamMessi</td>\n",
              "      <td>2021-02-12 09:18:25</td>\n",
              "      <td>RT @adidasfootball: \"Reaching this historic mi...</td>\n",
              "    </tr>\n",
              "    <tr>\n",
              "      <th>2</th>\n",
              "      <td>@TeamMessi</td>\n",
              "      <td>2020-12-23 10:50:07</td>\n",
              "      <td>RT @adidasfootball: 644.\\n\\nFrom scoring his f...</td>\n",
              "    </tr>\n",
              "    <tr>\n",
              "      <th>3</th>\n",
              "      <td>@TeamMessi</td>\n",
              "      <td>2020-02-23 10:06:09</td>\n",
              "      <td>RT @SDEibar: Te sufrimos.\\nTe padecemos.\\nTe s...</td>\n",
              "    </tr>\n",
              "    <tr>\n",
              "      <th>4</th>\n",
              "      <td>@TeamMessi</td>\n",
              "      <td>2020-02-22 17:33:14</td>\n",
              "      <td>RT @adidasfootball: Greatness.\\nLeo Messi, the...</td>\n",
              "    </tr>\n",
              "    <tr>\n",
              "      <th>...</th>\n",
              "      <td>...</td>\n",
              "      <td>...</td>\n",
              "      <td>...</td>\n",
              "    </tr>\n",
              "    <tr>\n",
              "      <th>995</th>\n",
              "      <td>@TeamMessi</td>\n",
              "      <td>2015-06-16 17:56:19</td>\n",
              "      <td>@TheNumber10Role Prove it. #BeTheDifference</td>\n",
              "    </tr>\n",
              "    <tr>\n",
              "      <th>996</th>\n",
              "      <td>@TeamMessi</td>\n",
              "      <td>2015-06-16 17:52:59</td>\n",
              "      <td>@miguenito86 Claro, es que @charlyiacono se in...</td>\n",
              "    </tr>\n",
              "    <tr>\n",
              "      <th>997</th>\n",
              "      <td>@TeamMessi</td>\n",
              "      <td>2015-06-16 17:50:37</td>\n",
              "      <td>@AndresRashed Glad you like it, Andres. Our fr...</td>\n",
              "    </tr>\n",
              "    <tr>\n",
              "      <th>998</th>\n",
              "      <td>@TeamMessi</td>\n",
              "      <td>2015-06-16 16:46:15</td>\n",
              "      <td>Inspired by his icon Leo Messi. Meet @charlyia...</td>\n",
              "    </tr>\n",
              "    <tr>\n",
              "      <th>999</th>\n",
              "      <td>@TeamMessi</td>\n",
              "      <td>2015-06-16 16:45:55</td>\n",
              "      <td>Inspirado por Messi. Conocé a @charlyiacono, c...</td>\n",
              "    </tr>\n",
              "  </tbody>\n",
              "</table>\n",
              "<p>1000 rows × 3 columns</p>\n",
              "</div>\n",
              "      <button class=\"colab-df-convert\" onclick=\"convertToInteractive('df-b17d193a-2ec8-4b36-96cf-fa13b1c69ba5')\"\n",
              "              title=\"Convert this dataframe to an interactive table.\"\n",
              "              style=\"display:none;\">\n",
              "        \n",
              "  <svg xmlns=\"http://www.w3.org/2000/svg\" height=\"24px\"viewBox=\"0 0 24 24\"\n",
              "       width=\"24px\">\n",
              "    <path d=\"M0 0h24v24H0V0z\" fill=\"none\"/>\n",
              "    <path d=\"M18.56 5.44l.94 2.06.94-2.06 2.06-.94-2.06-.94-.94-2.06-.94 2.06-2.06.94zm-11 1L8.5 8.5l.94-2.06 2.06-.94-2.06-.94L8.5 2.5l-.94 2.06-2.06.94zm10 10l.94 2.06.94-2.06 2.06-.94-2.06-.94-.94-2.06-.94 2.06-2.06.94z\"/><path d=\"M17.41 7.96l-1.37-1.37c-.4-.4-.92-.59-1.43-.59-.52 0-1.04.2-1.43.59L10.3 9.45l-7.72 7.72c-.78.78-.78 2.05 0 2.83L4 21.41c.39.39.9.59 1.41.59.51 0 1.02-.2 1.41-.59l7.78-7.78 2.81-2.81c.8-.78.8-2.07 0-2.86zM5.41 20L4 18.59l7.72-7.72 1.47 1.35L5.41 20z\"/>\n",
              "  </svg>\n",
              "      </button>\n",
              "      \n",
              "  <style>\n",
              "    .colab-df-container {\n",
              "      display:flex;\n",
              "      flex-wrap:wrap;\n",
              "      gap: 12px;\n",
              "    }\n",
              "\n",
              "    .colab-df-convert {\n",
              "      background-color: #E8F0FE;\n",
              "      border: none;\n",
              "      border-radius: 50%;\n",
              "      cursor: pointer;\n",
              "      display: none;\n",
              "      fill: #1967D2;\n",
              "      height: 32px;\n",
              "      padding: 0 0 0 0;\n",
              "      width: 32px;\n",
              "    }\n",
              "\n",
              "    .colab-df-convert:hover {\n",
              "      background-color: #E2EBFA;\n",
              "      box-shadow: 0px 1px 2px rgba(60, 64, 67, 0.3), 0px 1px 3px 1px rgba(60, 64, 67, 0.15);\n",
              "      fill: #174EA6;\n",
              "    }\n",
              "\n",
              "    [theme=dark] .colab-df-convert {\n",
              "      background-color: #3B4455;\n",
              "      fill: #D2E3FC;\n",
              "    }\n",
              "\n",
              "    [theme=dark] .colab-df-convert:hover {\n",
              "      background-color: #434B5C;\n",
              "      box-shadow: 0px 1px 3px 1px rgba(0, 0, 0, 0.15);\n",
              "      filter: drop-shadow(0px 1px 2px rgba(0, 0, 0, 0.3));\n",
              "      fill: #FFFFFF;\n",
              "    }\n",
              "  </style>\n",
              "\n",
              "      <script>\n",
              "        const buttonEl =\n",
              "          document.querySelector('#df-b17d193a-2ec8-4b36-96cf-fa13b1c69ba5 button.colab-df-convert');\n",
              "        buttonEl.style.display =\n",
              "          google.colab.kernel.accessAllowed ? 'block' : 'none';\n",
              "\n",
              "        async function convertToInteractive(key) {\n",
              "          const element = document.querySelector('#df-b17d193a-2ec8-4b36-96cf-fa13b1c69ba5');\n",
              "          const dataTable =\n",
              "            await google.colab.kernel.invokeFunction('convertToInteractive',\n",
              "                                                     [key], {});\n",
              "          if (!dataTable) return;\n",
              "\n",
              "          const docLinkHtml = 'Like what you see? Visit the ' +\n",
              "            '<a target=\"_blank\" href=https://colab.research.google.com/notebooks/data_table.ipynb>data table notebook</a>'\n",
              "            + ' to learn more about interactive tables.';\n",
              "          element.innerHTML = '';\n",
              "          dataTable['output_type'] = 'display_data';\n",
              "          await google.colab.output.renderOutput(dataTable, element);\n",
              "          const docLink = document.createElement('div');\n",
              "          docLink.innerHTML = docLinkHtml;\n",
              "          element.appendChild(docLink);\n",
              "        }\n",
              "      </script>\n",
              "    </div>\n",
              "  </div>\n",
              "  "
            ]
          },
          "metadata": {},
          "execution_count": 61
        }
      ]
    },
    {
      "cell_type": "code",
      "source": [],
      "metadata": {
        "id": "r7v1DcQXFHkn"
      },
      "execution_count": 56,
      "outputs": []
    }
  ],
  "metadata": {
    "colab": {
      "provenance": []
    },
    "kernelspec": {
      "display_name": "Python 3 (ipykernel)",
      "language": "python",
      "name": "python3"
    },
    "language_info": {
      "codemirror_mode": {
        "name": "ipython",
        "version": 3
      },
      "file_extension": ".py",
      "mimetype": "text/x-python",
      "name": "python",
      "nbconvert_exporter": "python",
      "pygments_lexer": "ipython3",
      "version": "3.9.12"
    }
  },
  "nbformat": 4,
  "nbformat_minor": 0
}